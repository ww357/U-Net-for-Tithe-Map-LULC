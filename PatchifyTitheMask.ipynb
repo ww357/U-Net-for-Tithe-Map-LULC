{
 "cells": [
  {
   "cell_type": "code",
   "execution_count": null,
   "id": "a59ea5f6",
   "metadata": {},
   "outputs": [
    {
     "name": "stdout",
     "output_type": "stream",
     "text": [
      "(7878, 10646)\n"
     ]
    }
   ],
   "source": [
    "from PIL import Image\n",
    "import numpy as np\n",
    "from patchify import patchify\n",
    "import os\n",
    "Image.MAX_IMAGE_PIXELS = None # disable protection from potential decompression bomb DOS attack\n",
    "image = Image.open(\"TitheTrainingMaskVisable.tif\")\n",
    "#display(image)\n",
    "image_array = np.array(image)\n",
    "print(image_array.shape)"
   ]
  },
  {
   "cell_type": "code",
   "execution_count": 4,
   "id": "db4f245c",
   "metadata": {},
   "outputs": [
    {
     "name": "stdout",
     "output_type": "stream",
     "text": [
      "Padding needed: height=58, width=106\n"
     ]
    }
   ],
   "source": [
    "patch_size = 256\n",
    "# Calculate padding needed\n",
    "h, w = image_array.shape\n",
    "c = 1\n",
    "\n",
    "pad_h = (patch_size - h % patch_size) % patch_size\n",
    "pad_w = (patch_size - w % patch_size) % patch_size\n",
    "print(f\"Padding needed: height={pad_h}, width={pad_w}\")\n",
    "\n",
    "# Pad the mask directly\n",
    "padded_mask = np.pad(image_array, \n",
    "                     ((0, pad_h), (0, pad_w)), \n",
    "                     mode='constant', \n",
    "                     constant_values=0)\n"
   ]
  },
  {
   "cell_type": "code",
   "execution_count": null,
   "id": "9c83ac55",
   "metadata": {},
   "outputs": [],
   "source": [
    "# display mask for debugging:\n",
    "# Image.fromarray(padded_mask.astype(np.uint8)).show()"
   ]
  },
  {
   "cell_type": "code",
   "execution_count": 7,
   "id": "426cf4f1",
   "metadata": {},
   "outputs": [
    {
     "name": "stdout",
     "output_type": "stream",
     "text": [
      "(31, 42, 256, 256)\n"
     ]
    }
   ],
   "source": [
    "patches=patchify(padded_mask,(patch_size,patch_size),step=patch_size)\n",
    "print(patches.shape)"
   ]
  },
  {
   "cell_type": "code",
   "execution_count": 9,
   "id": "47c882a6",
   "metadata": {},
   "outputs": [
    {
     "name": "stdout",
     "output_type": "stream",
     "text": [
      "Mask patches shape: (31, 42, 256, 256)\n",
      "Will create 1302 patches\n",
      "Patch 0,0: shape=(256, 256), dtype=uint8\n",
      "  Values: min=0, max=0\n",
      "  Unique values: [0]\n",
      "Patch 0,1: shape=(256, 256), dtype=uint8\n",
      "  Values: min=0, max=0\n",
      "  Unique values: [0]\n",
      "Patch 0,2: shape=(256, 256), dtype=uint8\n",
      "  Values: min=0, max=0\n",
      "  Unique values: [0]\n",
      "Saved all patches to mask_patches_256\n"
     ]
    }
   ],
   "source": [
    "output_dir = f\"mask_patches_{patch_size}\"\n",
    "\n",
    "if not os.path.exists(output_dir):\n",
    "    os.makedirs(output_dir)\n",
    "\n",
    "print(f\"Mask patches shape: {mask_patches.shape}\")\n",
    "print(f\"Will create {mask_patches.shape[0] * mask_patches.shape[1]} patches\")\n",
    "\n",
    "for i in range(mask_patches.shape[0]):\n",
    "    for j in range(mask_patches.shape[1]):\n",
    "        # Handle different possible shapes from patchify\n",
    "        patch = mask_patches[i, j]\n",
    "        if len(patch.shape) > 2:\n",
    "            patch = np.squeeze(patch)\n",
    "        \n",
    "        # Debug first few patches\n",
    "        if i == 0 and j < 3:\n",
    "            print(f\"Patch {i},{j}: shape={patch.shape}, dtype={patch.dtype}\")\n",
    "            print(f\"  Values: min={patch.min()}, max={patch.max()}\")\n",
    "            print(f\"  Unique values: {np.unique(patch)}\")\n",
    "        \n",
    "        # Ensure proper data type for saving\n",
    "        patch_uint8 = patch.astype(np.uint8)\n",
    "        patch_img = Image.fromarray(patch_uint8)\n",
    "        patch_filename = f\"patch_{i}_{j}.png\"\n",
    "        patch_img.save(os.path.join(output_dir, patch_filename))\n",
    "\n",
    "print(f\"Saved all patches to {output_dir}\")\n"
   ]
  },
  {
   "cell_type": "markdown",
   "id": "281cd9c9",
   "metadata": {},
   "source": [
    "this is cleaner code, but it does not work for some reason:"
   ]
  },
  {
   "cell_type": "code",
   "execution_count": null,
   "id": "4b1f0625",
   "metadata": {},
   "outputs": [],
   "source": [
    "output_dir = f\"mask_patches_{patch_size}\"\n",
    "\n",
    "if not os.path.exists(output_dir):\n",
    "    os.makedirs(output_dir)\n",
    "\n",
    "for i in range(patches.shape[0]):\n",
    "    for j in range(patches.shape[1]):\n",
    "        patch = patches[i, j, 0]\n",
    "        patch_img = Image.fromarray(patch.astype(np.uint8))\n",
    "        patch_filename = f\"patch_{i}_{j}.png\"\n",
    "        patch_img.save(os.path.join(output_dir, patch_filename))"
   ]
  }
 ],
 "metadata": {
  "kernelspec": {
   "display_name": "geospatial",
   "language": "python",
   "name": "python3"
  },
  "language_info": {
   "codemirror_mode": {
    "name": "ipython",
    "version": 3
   },
   "file_extension": ".py",
   "mimetype": "text/x-python",
   "name": "python",
   "nbconvert_exporter": "python",
   "pygments_lexer": "ipython3",
   "version": "3.12.2"
  }
 },
 "nbformat": 4,
 "nbformat_minor": 5
}
