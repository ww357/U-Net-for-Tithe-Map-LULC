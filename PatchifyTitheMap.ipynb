{
 "cells": [
  {
   "cell_type": "markdown",
   "id": "69fe3d40",
   "metadata": {},
   "source": [
    "Turn a Tithe map into patches for model to predict on (256x256 pixel patches with padding):\n",
    "***\n",
    "*Running with base but maybe make a different environement for this.*"
   ]
  },
  {
   "cell_type": "code",
   "execution_count": 1,
   "id": "a59ea5f6",
   "metadata": {},
   "outputs": [
    {
     "name": "stdout",
     "output_type": "stream",
     "text": [
      "(15592, 16534, 3)\n"
     ]
    }
   ],
   "source": [
    "from PIL import Image\n",
    "import numpy as np\n",
    "from patchify import patchify\n",
    "import os\n",
    "Image.MAX_IMAGE_PIXELS = None # disable protection from potential decompression bomb DOS attack\n",
    "map_name = \"Selworthy\"\n",
    "image = Image.open(f\"../Full/{map_name}.tif\")\n",
    "#display(image)\n",
    "image_array = np.array(image)\n",
    "print(image_array.shape)"
   ]
  },
  {
   "cell_type": "code",
   "execution_count": 2,
   "id": "48a6ce78",
   "metadata": {},
   "outputs": [
    {
     "name": "stdout",
     "output_type": "stream",
     "text": [
      "Padding needed: height=24, width=106\n"
     ]
    }
   ],
   "source": [
    "patch_size = 256\n",
    "# Calculate padding needed\n",
    "h, w, c = image_array.shape\n",
    "pad_h = (patch_size - h % patch_size) % patch_size\n",
    "pad_w = (patch_size - w % patch_size) % patch_size\n",
    "print(f\"Padding needed: height={pad_h}, width={pad_w}\")\n",
    "# Pad the image\n",
    "padded_image = np.pad(image_array, \n",
    "                     ((0, pad_h), (0, pad_w), (0, 0)), \n",
    "                     mode='constant', \n",
    "                     constant_values=0)\n",
    "# show the image with padding:\n",
    "#Image.fromarray(padded_image.astype(np.uint8)).show()"
   ]
  },
  {
   "cell_type": "code",
   "execution_count": 3,
   "id": "28c1db33",
   "metadata": {},
   "outputs": [
    {
     "name": "stdout",
     "output_type": "stream",
     "text": [
      "(61, 65, 1, 256, 256, 3)\n"
     ]
    }
   ],
   "source": [
    "patches=patchify(padded_image,(patch_size,patch_size,3),step=patch_size)\n",
    "print(patches.shape)"
   ]
  },
  {
   "cell_type": "code",
   "execution_count": 4,
   "id": "e763159d",
   "metadata": {},
   "outputs": [],
   "source": [
    "output_dir = f\"{map_name}_image_patches_{patch_size}\"\n",
    "\n",
    "#patch_height, patch_width, _ = patches.shape[1:4]\n",
    "if not os.path.exists(output_dir):\n",
    "    os.makedirs(output_dir)\n",
    "\n",
    "for i in range(patches.shape[0]):\n",
    "    for j in range(patches.shape[1]):\n",
    "        patch = patches[i, j, 0]\n",
    "        patch_img = Image.fromarray(patch.astype(np.uint8))\n",
    "        patch_filename = f\"patch_{i}_{j}.png\"\n",
    "        patch_img.save(os.path.join(output_dir, patch_filename))\n"
   ]
  }
 ],
 "metadata": {
  "kernelspec": {
   "display_name": "base",
   "language": "python",
   "name": "python3"
  },
  "language_info": {
   "codemirror_mode": {
    "name": "ipython",
    "version": 3
   },
   "file_extension": ".py",
   "mimetype": "text/x-python",
   "name": "python",
   "nbconvert_exporter": "python",
   "pygments_lexer": "ipython3",
   "version": "3.9.21"
  }
 },
 "nbformat": 4,
 "nbformat_minor": 5
}
